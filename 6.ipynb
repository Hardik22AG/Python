{
 "cells": [
  {
   "cell_type": "markdown",
   "id": "32af560e",
   "metadata": {},
   "source": [
    "#### 6. Write a program that calculates and prints the value according to the given formula: \n",
    "#### Q = Square root of [(2 * C * D)/H] \n",
    "##### Following are the fixed values of C and H: C is 50. H is 30. \n",
    "#### D is the variable whose values should be input to your program in a comma-separated sequence. \n"
   ]
  },
  {
   "cell_type": "code",
   "execution_count": 61,
   "id": "a104a8fc",
   "metadata": {},
   "outputs": [
    {
     "name": "stdout",
     "output_type": "stream",
     "text": [
      "Enter numbers separated by commas:10,20,40,3\n",
      "[6, 8, 12, 3]\n"
     ]
    }
   ],
   "source": [
    "import math\n",
    "D=input(\"Enter numbers separated by commas:\" ).split(',')\n",
    "L=[]\n",
    "l=[]\n",
    "for i in D:\n",
    "   L.append(int(i))\n",
    "for j in L:\n",
    "    C=50\n",
    "    H=30\n",
    "    Q= round(math.sqrt((2*C*j)/H))\n",
    "    l.append(Q)\n",
    "print(l)\n"
   ]
  }
 ],
 "metadata": {
  "kernelspec": {
   "display_name": "Python 3",
   "language": "python",
   "name": "python3"
  },
  "language_info": {
   "codemirror_mode": {
    "name": "ipython",
    "version": 3
   },
   "file_extension": ".py",
   "mimetype": "text/x-python",
   "name": "python",
   "nbconvert_exporter": "python",
   "pygments_lexer": "ipython3",
   "version": "3.8.8"
  }
 },
 "nbformat": 4,
 "nbformat_minor": 5
}
