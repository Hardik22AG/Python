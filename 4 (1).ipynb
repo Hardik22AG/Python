{
 "cells": [
  {
   "cell_type": "markdown",
   "id": "32af560e",
   "metadata": {},
   "source": [
    "###  4. Write a program which accepts a sequence of comma-separated numbers from console and generate a list and a tuple which contains every number.\n",
    "\n"
   ]
  },
  {
   "cell_type": "code",
   "execution_count": 23,
   "id": "a104a8fc",
   "metadata": {},
   "outputs": [
    {
     "name": "stdout",
     "output_type": "stream",
     "text": [
      "enter multiple inputs1,2,3,4,5,6,7,8,8,9,0\n",
      "('1', '2', '3', '4', '5', '6', '7', '8', '8', '9', '0')\n",
      "['1', '2', '3', '4', '5', '6', '7', '8', '8', '9', '0']\n"
     ]
    }
   ],
   "source": [
    "n=input('enter multiple inputs').split(',')\n",
    "print(tuple(n))\n",
    "print(n)"
   ]
  }
 ],
 "metadata": {
  "kernelspec": {
   "display_name": "Python 3",
   "language": "python",
   "name": "python3"
  },
  "language_info": {
   "codemirror_mode": {
    "name": "ipython",
    "version": 3
   },
   "file_extension": ".py",
   "mimetype": "text/x-python",
   "name": "python",
   "nbconvert_exporter": "python",
   "pygments_lexer": "ipython3",
   "version": "3.8.8"
  }
 },
 "nbformat": 4,
 "nbformat_minor": 5
}
