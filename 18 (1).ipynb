{
 "cells": [
  {
   "cell_type": "code",
   "execution_count": null,
   "id": "a104a8fc",
   "metadata": {},
   "outputs": [],
   "source": [
    "# 18. A robot moves in a plane starting from the original point (0,0). The robot can move toward UP, DOWN, LEFT and RIGHT with a given steps. \n",
    "#The trace of robot movement is shown as the following: \n",
    "# UP 5 \n",
    "# DOWN 3 \n",
    "# LEFT 3 \n",
    "# RIGHT 2 \n",
    "# The numbers after the direction are steps. \n",
    "# Please write a program to compute the distance from current position after a sequence of movement and original point. \n",
    "# If the distance is a float, then just print the nearest integer. \n",
    "# If the following tuples are given as input to the program: \n",
    "# UP 5 \n",
    "# DOWN 3\n",
    "# LEFT 3 \n",
    "# RIGHT 2 \n",
    "#Distance of a point point(x, y) from the origin is given by d(0, point) = sqrt(x**2+y**2)\n",
    "\n",
    "import math\n",
    "\n",
    "x,y=0,0\n",
    "while True:\n",
    "    steps=input(\"enter steps\")\n",
    "    if steps==\"\":\n",
    "        break\n",
    "    else:\n",
    "        steps=steps.split(\" \")\n",
    "    if steps[0]==\"UP\":\n",
    "        y=y+int(steps[1])\n",
    "    elif steps[0]==\"DOWN\":\n",
    "        y=y-int(steps[1])\n",
    "    elif steps[0]==\"LEFT\":\n",
    "        x=x-int(steps[1])\n",
    "    elif steps[0]==\"RIGHT\":\n",
    "        x=x+int(steps[1])\n",
    "    \n",
    "distance=math.sqrt(x**2+y**2)\n",
    "print(distance)\n",
    "        \n"
   ]
  }
 ],
 "metadata": {
  "kernelspec": {
   "display_name": "Python 3",
   "language": "python",
   "name": "python3"
  },
  "language_info": {
   "codemirror_mode": {
    "name": "ipython",
    "version": 3
   },
   "file_extension": ".py",
   "mimetype": "text/x-python",
   "name": "python",
   "nbconvert_exporter": "python",
   "pygments_lexer": "ipython3",
   "version": "3.8.8"
  }
 },
 "nbformat": 4,
 "nbformat_minor": 5
}
