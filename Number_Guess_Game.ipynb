{
 "cells": [
  {
   "cell_type": "code",
   "execution_count": 1,
   "id": "5d7682ca",
   "metadata": {},
   "outputs": [
    {
     "name": "stdout",
     "output_type": "stream",
     "text": [
      "enter num5\n",
      "guess is too high 5\n",
      "enter num3\n",
      "guess is too low 3\n",
      "enter num4\n",
      "yeaahh uhh guessed it 4\n"
     ]
    }
   ],
   "source": [
    "import random\n",
    "n=random.randint(1,10)\n",
    "guess=int(input('enter num'))\n",
    "while True:\n",
    "    if guess<n:\n",
    "        print(\"guess is too low\",guess)\n",
    "        guess=int(input(\"enter num\"))\n",
    "    elif guess>n:\n",
    "        print(\"guess is too high\",guess)\n",
    "        guess=int(input(\"enter num\"))\n",
    "    else:\n",
    "        print(\"yeaahh uhh guessed it\",guess)\n",
    "        break\n",
    "else:\n",
    "    print(\"thank you for guessing\")"
   ]
  }
 ],
 "metadata": {
  "kernelspec": {
   "display_name": "Python 3",
   "language": "python",
   "name": "python3"
  },
  "language_info": {
   "codemirror_mode": {
    "name": "ipython",
    "version": 3
   },
   "file_extension": ".py",
   "mimetype": "text/x-python",
   "name": "python",
   "nbconvert_exporter": "python",
   "pygments_lexer": "ipython3",
   "version": "3.8.8"
  }
 },
 "nbformat": 4,
 "nbformat_minor": 5
}
