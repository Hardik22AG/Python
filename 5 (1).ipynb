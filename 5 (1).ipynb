{
 "cells": [
  {
   "cell_type": "markdown",
   "id": "32af560e",
   "metadata": {},
   "source": [
    "#### 5. Define a class which has at least two methods: getString: to get a string from console input printString:\n",
    "#### to print the string in upper case. \n"
   ]
  },
  {
   "cell_type": "code",
   "execution_count": 48,
   "id": "a104a8fc",
   "metadata": {},
   "outputs": [
    {
     "data": {
      "text/plain": [
       "'HARDIK'"
      ]
     },
     "execution_count": 48,
     "metadata": {},
     "output_type": "execute_result"
    }
   ],
   "source": [
    "\n",
    "class A:\n",
    "\n",
    "        \n",
    "    def getstring(self,x):\n",
    "        self.x=x\n",
    "        \n",
    "        \n",
    "       \n",
    "    def printString(self):\n",
    "        return(self.x.upper())\n",
    "    \n",
    "        \n",
    "obj=A()\n",
    "obj.getstring(\"hardik\")\n",
    "obj.printString()"
   ]
  }
 ],
 "metadata": {
  "kernelspec": {
   "display_name": "Python 3",
   "language": "python",
   "name": "python3"
  },
  "language_info": {
   "codemirror_mode": {
    "name": "ipython",
    "version": 3
   },
   "file_extension": ".py",
   "mimetype": "text/x-python",
   "name": "python",
   "nbconvert_exporter": "python",
   "pygments_lexer": "ipython3",
   "version": "3.8.8"
  }
 },
 "nbformat": 4,
 "nbformat_minor": 5
}
