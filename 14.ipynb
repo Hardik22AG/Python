{
 "cells": [
  {
   "cell_type": "code",
   "execution_count": 9,
   "id": "a104a8fc",
   "metadata": {},
   "outputs": [
    {
     "name": "stdout",
     "output_type": "stream",
     "text": [
      "enter the value9\n",
      "11106\n"
     ]
    }
   ],
   "source": [
    "#14. Write a program that computes the value of a+aa+aaa+aaaa with a given digit as the value of a. \n",
    "#Suppose the input is supplied to the program: 9 \n",
    "#Then, the output should be: 11106 \n",
    "\n",
    "q=input('enter the value')\n",
    "val1=q*1\n",
    "val2=q*2\n",
    "val3=q*3\n",
    "val4=q*4\n",
    "output=int(val1)+int(val2)+int(val3)+int(val4)  # 9+99+999+9999 \n",
    "print(output)"
   ]
  }
 ],
 "metadata": {
  "kernelspec": {
   "display_name": "Python 3",
   "language": "python",
   "name": "python3"
  },
  "language_info": {
   "codemirror_mode": {
    "name": "ipython",
    "version": 3
   },
   "file_extension": ".py",
   "mimetype": "text/x-python",
   "name": "python",
   "nbconvert_exporter": "python",
   "pygments_lexer": "ipython3",
   "version": "3.8.8"
  }
 },
 "nbformat": 4,
 "nbformat_minor": 5
}
