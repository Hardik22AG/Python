{
 "cells": [
  {
   "cell_type": "markdown",
   "id": "32af560e",
   "metadata": {},
   "source": [
    "###  2. Write a program which can compute the factorial of a given numbers. The results should be printed in a comma-separated sequence on a single line\n"
   ]
  },
  {
   "cell_type": "code",
   "execution_count": 2,
   "id": "a104a8fc",
   "metadata": {},
   "outputs": [
    {
     "name": "stdout",
     "output_type": "stream",
     "text": [
      "enter a number8\n",
      "1 , 2 , 6 , 24 , 120 , 720 , 5040 , 40320 , "
     ]
    }
   ],
   "source": [
    "n=int(input('enter a number'))\n",
    "fact=1\n",
    "if n>0:\n",
    "    for i in range(1,n+1):\n",
    "        fact=fact*i\n",
    "        print(fact,end=' , ')\n",
    "elif n==0:\n",
    "    print(fact)\n",
    "else:\n",
    "    print('dont enter a negative number')"
   ]
  }
 ],
 "metadata": {
  "kernelspec": {
   "display_name": "Python 3",
   "language": "python",
   "name": "python3"
  },
  "language_info": {
   "codemirror_mode": {
    "name": "ipython",
    "version": 3
   },
   "file_extension": ".py",
   "mimetype": "text/x-python",
   "name": "python",
   "nbconvert_exporter": "python",
   "pygments_lexer": "ipython3",
   "version": "3.8.8"
  }
 },
 "nbformat": 4,
 "nbformat_minor": 5
}
