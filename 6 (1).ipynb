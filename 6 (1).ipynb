{
 "cells": [
  {
   "cell_type": "code",
   "execution_count": 138,
   "id": "a104a8fc",
   "metadata": {},
   "outputs": [
    {
     "name": "stdout",
     "output_type": "stream",
     "text": [
      "enter x3\n",
      "enter y5\n",
      "[[0, 0, 0, 0, 0], [0, 1, 2, 3, 4], [0, 2, 4, 6, 8]]\n"
     ]
    }
   ],
   "source": [
    "#7. Write a program which takes 2 digits, X,Y as input and generates a 2-dimensional array. \n",
    "#The element value in the i-th row and j-th column of the array should be i*j. \n",
    "#Note: i=0,1.., X-1; j=0,1,¡Y-1. \n",
    "#Suppose the following inputs are given to the program: 3, 5 \n",
    "#Then, the output of the program should be: [[0, 0, 0, 0, 0], [0, 1, 2, 3, 4], [0, 2, 4, 6, 8]] \n",
    "\n",
    "x=int(input('enter x'))\n",
    "y=int(input('enter y'))\n",
    "matrix=[[0 for j in range(y)] for i in range(x)]\n",
    "for i in range(x):\n",
    "    for j in range(y):\n",
    "        matrix[i][j]=i*j\n",
    "print(matrix)\n",
    "\n"
   ]
  }
 ],
 "metadata": {
  "kernelspec": {
   "display_name": "Python 3",
   "language": "python",
   "name": "python3"
  },
  "language_info": {
   "codemirror_mode": {
    "name": "ipython",
    "version": 3
   },
   "file_extension": ".py",
   "mimetype": "text/x-python",
   "name": "python",
   "nbconvert_exporter": "python",
   "pygments_lexer": "ipython3",
   "version": "3.8.8"
  }
 },
 "nbformat": 4,
 "nbformat_minor": 5
}
