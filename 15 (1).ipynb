{
 "cells": [
  {
   "cell_type": "code",
   "execution_count": 10,
   "id": "a104a8fc",
   "metadata": {},
   "outputs": [
    {
     "name": "stdout",
     "output_type": "stream",
     "text": [
      "enter numbers1,2,3,4,5,6,7,8,9\n",
      "1, 3, 5, 7, 9\n"
     ]
    }
   ],
   "source": [
    "#15. Use a list comprehension to square each odd number in a list. The list is input by a sequence of comma-separated numbers. \n",
    "#Suppose the input is supplied to the program: 1,2,3,4,5,6,7,8,9 \n",
    "#Then, the output should be: 1, 3, 5, 7, 9 \n",
    "\n",
    "a=input('enter numbers').split(',')\n",
    "    \n",
    "l=[i for i in (a) if (int(i)%2!=0)]\n",
    "print(\", \".join(l))\n"
   ]
  }
 ],
 "metadata": {
  "kernelspec": {
   "display_name": "Python 3",
   "language": "python",
   "name": "python3"
  },
  "language_info": {
   "codemirror_mode": {
    "name": "ipython",
    "version": 3
   },
   "file_extension": ".py",
   "mimetype": "text/x-python",
   "name": "python",
   "nbconvert_exporter": "python",
   "pygments_lexer": "ipython3",
   "version": "3.8.8"
  }
 },
 "nbformat": 4,
 "nbformat_minor": 5
}
