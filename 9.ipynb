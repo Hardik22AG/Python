{
 "cells": [
  {
   "cell_type": "code",
   "execution_count": 2,
   "id": "a104a8fc",
   "metadata": {},
   "outputs": [
    {
     "name": "stdout",
     "output_type": "stream",
     "text": [
      "enter linesHello world Practice makes perfect \n",
      "HELLO WORLD PRACTICE MAKES PERFECT \n"
     ]
    }
   ],
   "source": [
    "#9. Write a program that accepts sequence of lines as input and\n",
    "#prints the lines after making all characters in the sentence capitalized.\n",
    "#Suppose the input is supplied to the program: Hello world Practice makes perfect \n",
    "#Then, the output should be: HELLO WORLD PRACTICE MAKES PERFECT \n",
    "lines=input('enter lines').split(',')\n",
    "for i in lines:\n",
    "    print(i.upper())"
   ]
  }
 ],
 "metadata": {
  "kernelspec": {
   "display_name": "Python 3",
   "language": "python",
   "name": "python3"
  },
  "language_info": {
   "codemirror_mode": {
    "name": "ipython",
    "version": 3
   },
   "file_extension": ".py",
   "mimetype": "text/x-python",
   "name": "python",
   "nbconvert_exporter": "python",
   "pygments_lexer": "ipython3",
   "version": "3.8.8"
  }
 },
 "nbformat": 4,
 "nbformat_minor": 5
}
