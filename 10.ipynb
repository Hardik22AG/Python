{
 "cells": [
  {
   "cell_type": "code",
   "execution_count": 4,
   "id": "a104a8fc",
   "metadata": {},
   "outputs": [
    {
     "name": "stdout",
     "output_type": "stream",
     "text": [
      "enter wordshello world and practice makes perfect and hello world again \n",
      "again and hello makes perfect practice world\n"
     ]
    }
   ],
   "source": [
    "#10. Write a program that accepts a sequence of whitespace separated words as input and \n",
    "#prints the words after removing all duplicate words and sorting them alphanumerically. \n",
    "#Suppose the input is supplied to the program: hello world and practice makes perfect and hello world again \n",
    "#Then, the output should be: again and hello makes perfect practice world \n",
    "\n",
    "sentence=input('enter words').split()\n",
    "for i in sentence:\n",
    "    if sentence.count(i)>1:\n",
    "        sentence.remove(i)\n",
    "sentence.sort()\n",
    "print(\" \".join(sentence))\n"
   ]
  }
 ],
 "metadata": {
  "kernelspec": {
   "display_name": "Python 3",
   "language": "python",
   "name": "python3"
  },
  "language_info": {
   "codemirror_mode": {
    "name": "ipython",
    "version": 3
   },
   "file_extension": ".py",
   "mimetype": "text/x-python",
   "name": "python",
   "nbconvert_exporter": "python",
   "pygments_lexer": "ipython3",
   "version": "3.8.8"
  }
 },
 "nbformat": 4,
 "nbformat_minor": 5
}
