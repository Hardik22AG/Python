{
 "cells": [
  {
   "cell_type": "code",
   "execution_count": null,
   "id": "a104a8fc",
   "metadata": {},
   "outputs": [],
   "source": [
    "#16. Write a program that computes the net amount of a bank account based a transaction log from console input. \n",
    "#The transaction log format is shown as following: \n",
    "#D 100 \n",
    "#W 200 \n",
    "#D means deposit while W means withdrawal. \n",
    "#Suppose the input is supplied to the program: \n",
    "#D 300\n",
    "#D 300 \n",
    "#W 200 \n",
    "#D 100 \n",
    "#Then, the output should be: 500 \n",
    "\n",
    "    \n",
    "d=0\n",
    "print(\"you have {} amunt in your account\".format(d))\n",
    "\n",
    "while True:\n",
    "    p=input(\"what do you  want:Withdraw money or Save money\")\n",
    "    if p:\n",
    "        if(p==\"Save money\"):\n",
    "            A=int(input(\"how much amunt you want to save in youor account\"))\n",
    "            d=d+A\n",
    "        elif(p==\"Withdraw money\"):\n",
    "            s=int(input(\"how much money you want to withdraw\"))\n",
    "            d=d-s\n",
    "    else:\n",
    "        break\n",
    "print(\"you left with {}rs\".format(d))\n",
    "   \n",
    "    \n",
    "    \n",
    "    \n",
    "    "
   ]
  }
 ],
 "metadata": {
  "kernelspec": {
   "display_name": "Python 3",
   "language": "python",
   "name": "python3"
  },
  "language_info": {
   "codemirror_mode": {
    "name": "ipython",
    "version": 3
   },
   "file_extension": ".py",
   "mimetype": "text/x-python",
   "name": "python",
   "nbconvert_exporter": "python",
   "pygments_lexer": "ipython3",
   "version": "3.8.8"
  }
 },
 "nbformat": 4,
 "nbformat_minor": 5
}
