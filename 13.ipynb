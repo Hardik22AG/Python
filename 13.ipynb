{
 "cells": [
  {
   "cell_type": "code",
   "execution_count": 8,
   "id": "a104a8fc",
   "metadata": {},
   "outputs": [
    {
     "name": "stdout",
     "output_type": "stream",
     "text": [
      "UPPER CASE 1\n",
      "LOWER CASE 9\n"
     ]
    }
   ],
   "source": [
    "#13. Write a program that accepts a sentence and calculate the number of upper case letters and lower case letters. \n",
    "#Suppose the input is supplied to the program: Hello world! \n",
    "#Then, the output should be: UPPER CASE 1 \n",
    "#LOWER CASE 9 \n",
    "x='Hello world!'\n",
    "count=0\n",
    "c=0\n",
    "for i in x:\n",
    "    if i.isupper():\n",
    "        count=count+1\n",
    "    elif i.islower():\n",
    "        c=c+1\n",
    "print('UPPER CASE',count)\n",
    "print('LOWER CASE',c)"
   ]
  }
 ],
 "metadata": {
  "kernelspec": {
   "display_name": "Python 3",
   "language": "python",
   "name": "python3"
  },
  "language_info": {
   "codemirror_mode": {
    "name": "ipython",
    "version": 3
   },
   "file_extension": ".py",
   "mimetype": "text/x-python",
   "name": "python",
   "nbconvert_exporter": "python",
   "pygments_lexer": "ipython3",
   "version": "3.8.8"
  }
 },
 "nbformat": 4,
 "nbformat_minor": 5
}
