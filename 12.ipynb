{
 "cells": [
  {
   "cell_type": "code",
   "execution_count": 6,
   "id": "a104a8fc",
   "metadata": {},
   "outputs": [
    {
     "name": "stdout",
     "output_type": "stream",
     "text": [
      "LETTERS 10\n",
      "DIGIT 3\n"
     ]
    }
   ],
   "source": [
    "#12. Write a program that accepts a sentence and calculate the number of letters and digits. \n",
    "#Suppose the input is supplied to the program: hello world! 123 \n",
    "#Then, the output should be: LETTERS 10\n",
    "#DIGITS 3 \n",
    "\n",
    "a='hello world! 123'\n",
    "count=0\n",
    "c=0\n",
    "for i in a:\n",
    "    if i.isalpha():\n",
    "       count=count+1\n",
    "    elif  i.isdigit():\n",
    "        c=c+1\n",
    "    \n",
    "print('LETTERS',count)\n",
    "print('DIGIT',c)\n",
    "\n",
    "    \n",
    "    \n",
    "    \n",
    "   "
   ]
  }
 ],
 "metadata": {
  "kernelspec": {
   "display_name": "Python 3",
   "language": "python",
   "name": "python3"
  },
  "language_info": {
   "codemirror_mode": {
    "name": "ipython",
    "version": 3
   },
   "file_extension": ".py",
   "mimetype": "text/x-python",
   "name": "python",
   "nbconvert_exporter": "python",
   "pygments_lexer": "ipython3",
   "version": "3.8.8"
  }
 },
 "nbformat": 4,
 "nbformat_minor": 5
}
