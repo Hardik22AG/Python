{
 "cells": [
  {
   "cell_type": "code",
   "execution_count": 1,
   "id": "a104a8fc",
   "metadata": {},
   "outputs": [
    {
     "name": "stdout",
     "output_type": "stream",
     "text": [
      "enter wordswithout, hello, bag, world \n",
      " bag ,  hello ,  world  , without , "
     ]
    }
   ],
   "source": [
    "#8. Write a program that accepts a comma separated sequence of words as input and prints the words in a comma-separated sequence after sorting them alphabetically. \n",
    "#Suppose the input is supplied to the program: without, hello, bag, world \n",
    "#Then, the output should be: bag, hello, without, world \n",
    "string=input('enter words').split(',')\n",
    "string.sort()\n",
    "for i in string:\n",
    "    print(i,end=' , ')\n"
   ]
  }
 ],
 "metadata": {
  "kernelspec": {
   "display_name": "Python 3",
   "language": "python",
   "name": "python3"
  },
  "language_info": {
   "codemirror_mode": {
    "name": "ipython",
    "version": 3
   },
   "file_extension": ".py",
   "mimetype": "text/x-python",
   "name": "python",
   "nbconvert_exporter": "python",
   "pygments_lexer": "ipython3",
   "version": "3.8.8"
  }
 },
 "nbformat": 4,
 "nbformat_minor": 5
}
