{
 "cells": [
  {
   "cell_type": "code",
   "execution_count": 1,
   "id": "a104a8fc",
   "metadata": {},
   "outputs": [
    {
     "name": "stdout",
     "output_type": "stream",
     "text": [
      "{'New': 1, 'to': 1, 'Python': 5, 'or': 2, 'choosing': 1, 'between': 1, '2': 2, 'and': 1, '3?': 1, 'Read': 1, '3.': 1}\n"
     ]
    }
   ],
   "source": [
    "# 19. Write a program to compute the frequency of the words from the input. \n",
    "# The output should output after sorting the key alphanumerically. \n",
    "# Suppose the input is supplied to the program: \n",
    "# New to Python or choosing between Python 2 and Python 3? Read Python 2 or Python 3. \n",
    "# Then, the output should be: \n",
    "# 2:2 \n",
    "# 3.:1 \n",
    "# 3?:1 \n",
    "# New:1 \n",
    "# Python:5 \n",
    "# Read:1 \n",
    "# and:1 \n",
    "# between:1 \n",
    "# choosing:1 \n",
    "# or:2 \n",
    "# to:1 \n",
    "\n",
    "word='New to Python or choosing between Python 2 and Python 3? Read Python 2 or Python 3.'\n",
    "w=word.split(' ')\n",
    "d={i:w.count(i) for i in w}\n",
    "print(d)\n",
    "\n"
   ]
  }
 ],
 "metadata": {
  "kernelspec": {
   "display_name": "Python 3",
   "language": "python",
   "name": "python3"
  },
  "language_info": {
   "codemirror_mode": {
    "name": "ipython",
    "version": 3
   },
   "file_extension": ".py",
   "mimetype": "text/x-python",
   "name": "python",
   "nbconvert_exporter": "python",
   "pygments_lexer": "ipython3",
   "version": "3.8.8"
  }
 },
 "nbformat": 4,
 "nbformat_minor": 5
}
